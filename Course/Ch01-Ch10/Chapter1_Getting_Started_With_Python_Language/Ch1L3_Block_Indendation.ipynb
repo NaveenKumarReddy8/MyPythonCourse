{
 "cells": [
  {
   "cell_type": "markdown",
   "metadata": {},
   "source": [
    "# Block Indendation"
   ]
  },
  {
   "cell_type": "markdown",
   "metadata": {},
   "source": [
    "Python uses indentation to define control and loop constructs. This contributes to Python's readability, however, it requires the programmer to pay close attention to the use of whitespace. Thus, editor miscalibration could result in code that behaves in unexpected ways."
   ]
  },
  {
   "cell_type": "markdown",
   "metadata": {},
   "source": [
    "### A piece of Humour :P"
   ]
  },
  {
   "cell_type": "markdown",
   "metadata": {},
   "source": [
    "<img src=\"../Images/Python_Whitespace_MEME.jpg\"/>"
   ]
  },
  {
   "cell_type": "markdown",
   "metadata": {},
   "source": [
    "Python uses the colon symbol ( : ) and indentation for showing where blocks of code begin and end (If you come from another language, do not confuse this with somehow being related to the ternary operator). That is, blocks in Python, such as functions, loops, if clauses and other constructs, have no ending identifiers. All blocks start with a colon and then contain the indented lines below it."
   ]
  },
  {
   "cell_type": "code",
   "execution_count": null,
   "metadata": {},
   "outputs": [],
   "source": [
    "def my_function(): # We can see in this example that we are using 4 spaces for creation of block.\n",
    "    msg = \"Hello Python Enthusiast\"\n",
    "    return msg\n",
    "print(my_function())"
   ]
  },
  {
   "cell_type": "markdown",
   "metadata": {},
   "source": [
    "Blocks that contain exactly one single-line statement may be put on the same line, though this form is generally not considered good style:"
   ]
  },
  {
   "cell_type": "code",
   "execution_count": null,
   "metadata": {},
   "outputs": [],
   "source": [
    "# Blocks that contain exactly one single-line statement. \n",
    "a = 11\n",
    "b = 13\n",
    "if a > b: print(\"a is greater than b\")\n",
    "elif b > a: print(\"b is greater than a\")\n",
    "else: print(\"a and b are equal\")"
   ]
  },
  {
   "cell_type": "code",
   "execution_count": null,
   "metadata": {},
   "outputs": [],
   "source": [
    "# In this example as the blocks are not one single-line statement, IndendationError would be raised.\n",
    "a = 11\n",
    "b = 13\n",
    "if a > b: a = a + 5\n",
    "    print(a)\n",
    "elif b > a: b = b + 5\n",
    "    print(b)\n",
    "else: print(\"a and b are equal\")"
   ]
  }
 ],
 "metadata": {
  "kernelspec": {
   "display_name": "Python 3",
   "language": "python",
   "name": "python3"
  },
  "language_info": {
   "codemirror_mode": {
    "name": "ipython",
    "version": 3
   },
   "file_extension": ".py",
   "mimetype": "text/x-python",
   "name": "python",
   "nbconvert_exporter": "python",
   "pygments_lexer": "ipython3",
   "version": "3.7.3"
  }
 },
 "nbformat": 4,
 "nbformat_minor": 2
}
