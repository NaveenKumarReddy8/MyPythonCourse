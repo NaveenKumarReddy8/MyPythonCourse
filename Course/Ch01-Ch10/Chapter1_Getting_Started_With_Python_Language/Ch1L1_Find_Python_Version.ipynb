{
 "cells": [
  {
   "cell_type": "markdown",
   "metadata": {},
   "source": [
    "# Let's find the Python version installed in the system.\n",
    "There are two ways to find\n",
    "* Using the command prompt(windows), terminal(linux): python --version\n",
    "* Using the python itself. In this lesson we would be finding the python version installed using Python Sys library."
   ]
  },
  {
   "cell_type": "code",
   "execution_count": null,
   "metadata": {},
   "outputs": [],
   "source": [
    "import sys\n",
    "sys.version"
   ]
  }
 ],
 "metadata": {
  "kernelspec": {
   "display_name": "Python 3",
   "language": "python",
   "name": "python3"
  },
  "language_info": {
   "codemirror_mode": {
    "name": "ipython",
    "version": 3
   },
   "file_extension": ".py",
   "mimetype": "text/x-python",
   "name": "python",
   "nbconvert_exporter": "python",
   "pygments_lexer": "ipython3",
   "version": "3.7.3"
  }
 },
 "nbformat": 4,
 "nbformat_minor": 2
}
