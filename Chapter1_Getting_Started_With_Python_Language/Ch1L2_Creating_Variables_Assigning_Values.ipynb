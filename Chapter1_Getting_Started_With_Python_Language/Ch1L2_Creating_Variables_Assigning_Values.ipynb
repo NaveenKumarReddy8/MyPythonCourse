{
 "cells": [
  {
   "cell_type": "markdown",
   "metadata": {},
   "source": [
    "# Creating Variables and Assigning Values\n",
    "Python is a Dynamically typed language. This means the type of the variable or object is defined during the runtime.\n",
    "To create a variable in Python, all you need to do is specify the variable name, and then assign a value to it.\n",
    "\n",
    "> variable name = value\n",
    "\n",
    "Python uses = to assign values to variables. There's no need to declare a variable in advance (or to assign a data type to it), assigning a value to a variable itself declares and initializes the variable with that value. There's no way to declare a variable without assigning it an initial value."
   ]
  },
  {
   "cell_type": "markdown",
   "metadata": {},
   "source": [
    "A Few built-in frequently used data types in Python are:\n",
    "* Integer\n",
    "* Floating Point\n",
    "* Boolean\n",
    "* String\n",
    "* NoneType\n",
    "* Tuple\n",
    "* List\n",
    "* Set\n",
    "* Dict"
   ]
  },
  {
   "cell_type": "markdown",
   "metadata": {},
   "source": [
    "The other resources we would be using in this lesson are:\n",
    "* type : type is used to find the type of the object.\n",
    "* format : format is used to print the attribute in it's respective sequence of {}.\n",
    "From python 3.6 f-strings are implemented for better readability."
   ]
  },
  {
   "cell_type": "code",
   "execution_count": 1,
   "metadata": {},
   "outputs": [
    {
     "name": "stdout",
     "output_type": "stream",
     "text": [
      "The type of integer_example is <class 'int'>\n"
     ]
    }
   ],
   "source": [
    "# Integer\n",
    "integer_example = 13\n",
    "print(\"The type of integer_example is {}\".format(type(integer_example)))"
   ]
  },
  {
   "cell_type": "code",
   "execution_count": 2,
   "metadata": {},
   "outputs": [
    {
     "name": "stdout",
     "output_type": "stream",
     "text": [
      "The type of floating_point_example is <class 'float'>\n"
     ]
    }
   ],
   "source": [
    "# Floating point\n",
    "floating_point_example = 9.4\n",
    "print(\"The type of floating_point_example is {}\".format(type(floating_point_example)))"
   ]
  },
  {
   "cell_type": "code",
   "execution_count": 3,
   "metadata": {},
   "outputs": [
    {
     "name": "stdout",
     "output_type": "stream",
     "text": [
      "The type of boolean_example is <class 'bool'>\n"
     ]
    }
   ],
   "source": [
    "# Boolean. Boolean values in python are either True or False only. \n",
    "boolean_example = True\n",
    "print(\"The type of boolean_example is {}\".format(type(boolean_example)))"
   ]
  },
  {
   "cell_type": "code",
   "execution_count": 4,
   "metadata": {},
   "outputs": [
    {
     "name": "stdout",
     "output_type": "stream",
     "text": [
      "The type of string_example is <class 'str'>\n"
     ]
    }
   ],
   "source": [
    "# String\n",
    "string_example = \"Hello Python Enthusiast\"\n",
    "print(\"The type of string_example is {}\".format(type(string_example)))"
   ]
  },
  {
   "cell_type": "code",
   "execution_count": 5,
   "metadata": {},
   "outputs": [
    {
     "name": "stdout",
     "output_type": "stream",
     "text": [
      "The type of nonetype_example is <class 'NoneType'>\n"
     ]
    }
   ],
   "source": [
    "# None\n",
    "nonetype_example = None\n",
    "print(\"The type of nonetype_example is {}\".format(type(nonetype_example)))"
   ]
  },
  {
   "cell_type": "code",
   "execution_count": 6,
   "metadata": {},
   "outputs": [
    {
     "name": "stdout",
     "output_type": "stream",
     "text": [
      "The type of tuple_example is <class 'tuple'>\n"
     ]
    }
   ],
   "source": [
    "# Tuple\n",
    "tuple_example = (\"Hey\", 5, 8.8)\n",
    "print(\"The type of tuple_example is {}\". format(type(tuple_example)))"
   ]
  },
  {
   "cell_type": "code",
   "execution_count": 7,
   "metadata": {},
   "outputs": [
    {
     "name": "stdout",
     "output_type": "stream",
     "text": [
      "The type of list_example is <class 'list'>\n"
     ]
    }
   ],
   "source": [
    "# List\n",
    "list_example =  [1, \"Hello\", False] # The list data type can contain any type of datatype in it.\n",
    "print(\"The type of list_example is {}\".format(type(list_example)))"
   ]
  },
  {
   "cell_type": "code",
   "execution_count": 8,
   "metadata": {},
   "outputs": [
    {
     "name": "stdout",
     "output_type": "stream",
     "text": [
      "The type of set_example is <class 'set'>\n"
     ]
    }
   ],
   "source": [
    "# Set\n",
    "set_example = {\"Hey\", 5, 8.8}\n",
    "print(\"The type of set_example is {}\".format(type(set_example)))"
   ]
  },
  {
   "cell_type": "code",
   "execution_count": 9,
   "metadata": {},
   "outputs": [
    {
     "name": "stdout",
     "output_type": "stream",
     "text": [
      "The type of dict_example is <class 'dict'>\n"
     ]
    }
   ],
   "source": [
    "# Dict\n",
    "dict_example = {\n",
    "    \"language\": \"Python\",\n",
    "    \"type\": \"Interpreted Language\"\n",
    "} # Dict a key-value data type.\n",
    "print( \"The type of dict_example is {}\".format(type(dict_example)))"
   ]
  },
  {
   "cell_type": "code",
   "execution_count": 10,
   "metadata": {},
   "outputs": [
    {
     "ename": "SyntaxError",
     "evalue": "can't assign to literal (<ipython-input-10-c095e640a696>, line 2)",
     "output_type": "error",
     "traceback": [
      "\u001b[0;36m  File \u001b[0;32m\"<ipython-input-10-c095e640a696>\"\u001b[0;36m, line \u001b[0;32m2\u001b[0m\n\u001b[0;31m    0 = x\u001b[0m\n\u001b[0m         ^\u001b[0m\n\u001b[0;31mSyntaxError\u001b[0m\u001b[0;31m:\u001b[0m can't assign to literal\n"
     ]
    }
   ],
   "source": [
    "# Variable assignment works from left to right. So the following will give you an syntax error.\n",
    "0 = x"
   ]
  },
  {
   "cell_type": "markdown",
   "metadata": {},
   "source": [
    "## Naming of the variables\n"
   ]
  },
  {
   "cell_type": "code",
   "execution_count": null,
   "metadata": {},
   "outputs": [],
   "source": []
  }
 ],
 "metadata": {
  "kernelspec": {
   "display_name": "Python 3",
   "language": "python",
   "name": "python3"
  },
  "language_info": {
   "codemirror_mode": {
    "name": "ipython",
    "version": 3
   },
   "file_extension": ".py",
   "mimetype": "text/x-python",
   "name": "python",
   "nbconvert_exporter": "python",
   "pygments_lexer": "ipython3",
   "version": "3.7.3"
  }
 },
 "nbformat": 4,
 "nbformat_minor": 2
}
