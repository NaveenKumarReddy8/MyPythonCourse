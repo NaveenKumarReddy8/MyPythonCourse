{
 "cells": [
  {
   "cell_type": "markdown",
   "metadata": {},
   "source": [
    "# Creating Variables and Assigning Values\n",
    "Python is a Dynamically typed language. This means the type of the variable or object is defined during the runtime.\n",
    "To create a variable in Python, all you need to do is specify the variable name, and then assign a value to it.\n",
    "\n",
    "> variable name = value\n",
    "\n",
    "Python uses = to assign values to variables. There's no need to declare a variable in advance (or to assign a data type to it), assigning a value to a variable itself declares and initializes the variable with that value. There's no way to declare a variable without assigning it an initial value.\n",
    "\n",
    "### Variable assignment works from left to right."
   ]
  },
  {
   "cell_type": "markdown",
   "metadata": {},
   "source": [
    "A Few built-in frequently used data types in Python are:\n",
    " <table style=\"width:100%\">\n",
    "  <tr>\n",
    "    <th>Data type</th>\n",
    "    <th>Immutable</th>\n",
    "  </tr>\n",
    "  <tr>\n",
    "    <td>Integer</td>\n",
    "    <td>&#x2611;</td>\n",
    "  </tr>\n",
    "  <tr>\n",
    "      <td>Floating Point</td>\n",
    "      <td>&#x2611;</td>\n",
    "  </tr>\n",
    "   <tr>\n",
    "      <td>Boolean</td>\n",
    "      <td>&#x2611;</td>\n",
    "  </tr>\n",
    "  <tr>\n",
    "      <td>String</td>\n",
    "      <td>&#x2611;</td>\n",
    "  </tr>\n",
    "  <tr>\n",
    "      <td>NoneType</td>\n",
    "      <td>&#x2611;</td>\n",
    "  </tr>\n",
    "  <tr>\n",
    "      <td>Tuple</td>\n",
    "      <td>&#x2611;</td>\n",
    "  </tr>\n",
    "  <tr>\n",
    "      <td>List</td>\n",
    "      <td>&#x2612;</td>\n",
    "  </tr>\n",
    "  <tr>\n",
    "      <td>Set</td>\n",
    "      <td>&#x2612;</td>\n",
    "  </tr>\n",
    "  <tr>\n",
    "      <td>Dict</td>\n",
    "      <td>&#x2612;</td>\n",
    "  </tr>\n",
    "</table> \n",
    "\n",
    "> Immutable data types can't be altered. Whereas Mutable data types can be altered."
   ]
  },
  {
   "cell_type": "markdown",
   "metadata": {},
   "source": [
    "The other resources we would be using in this lesson are:\n",
    "* type : type is used to find the type of the object.\n",
    "* format : format is used to print the attribute in it's respective sequence of {}.\n",
    "From python 3.6 f-strings are implemented for better readability.\n",
    "* try-except : Python has try-except for catching the Exceptions."
   ]
  },
  {
   "cell_type": "markdown",
   "metadata": {},
   "source": [
    "## Note:\n",
    "1. Variables names must start with a letter or an underscore.\n",
    "2. The remainder of your variable name may consist of letters, numbers and underscores.\n",
    "3. Names are case sensitive."
   ]
  },
  {
   "cell_type": "code",
   "execution_count": null,
   "metadata": {},
   "outputs": [],
   "source": [
    "# Integer\n",
    "integer_example = 13\n",
    "print(\"The type of integer_example is {}\".format(type(integer_example)))"
   ]
  },
  {
   "cell_type": "code",
   "execution_count": null,
   "metadata": {},
   "outputs": [],
   "source": [
    "# Floating point\n",
    "floating_point_example = 9.4\n",
    "print(\"The type of floating_point_example is {}\".format(type(floating_point_example)))"
   ]
  },
  {
   "cell_type": "code",
   "execution_count": null,
   "metadata": {},
   "outputs": [],
   "source": [
    "# Boolean. Boolean values in python are either True or False only. \n",
    "boolean_example = True\n",
    "print(\"The type of boolean_example is {}\".format(type(boolean_example)))"
   ]
  },
  {
   "cell_type": "code",
   "execution_count": null,
   "metadata": {},
   "outputs": [],
   "source": [
    "# String\n",
    "string_example = \"Hello Python Enthusiast\"\n",
    "print(\"The type of string_example is {}\".format(type(string_example)))"
   ]
  },
  {
   "cell_type": "code",
   "execution_count": null,
   "metadata": {},
   "outputs": [],
   "source": [
    "# None\n",
    "nonetype_example = None\n",
    "print(\"The type of nonetype_example is {}\".format(type(nonetype_example)))"
   ]
  },
  {
   "cell_type": "code",
   "execution_count": null,
   "metadata": {},
   "outputs": [],
   "source": [
    "# Tuple\n",
    "tuple_example = (\"Hey\", 5, 8.8)\n",
    "print(\"The type of tuple_example is {}\". format(type(tuple_example)))"
   ]
  },
  {
   "cell_type": "code",
   "execution_count": null,
   "metadata": {},
   "outputs": [],
   "source": [
    "# List\n",
    "list_example =  [1, \"Hello\", False] # The list data type can contain any type of datatype in it.\n",
    "print(\"The type of list_example is {}\".format(type(list_example)))"
   ]
  },
  {
   "cell_type": "code",
   "execution_count": null,
   "metadata": {},
   "outputs": [],
   "source": [
    "# Set\n",
    "set_example = {\"Hey\", 5, 8.8}\n",
    "print(\"The type of set_example is {}\".format(type(set_example)))"
   ]
  },
  {
   "cell_type": "code",
   "execution_count": null,
   "metadata": {},
   "outputs": [],
   "source": [
    "# Dict\n",
    "dict_example = {\n",
    "    \"language\": \"Python\",\n",
    "    \"type\": \"Interpreted Language\"\n",
    "} # Dict a key-value data type.\n",
    "print( \"The type of dict_example is {}\".format(type(dict_example)))"
   ]
  },
  {
   "cell_type": "markdown",
   "metadata": {},
   "source": [
    "## Assignment of multiple values to multiple variables"
   ]
  },
  {
   "cell_type": "code",
   "execution_count": null,
   "metadata": {},
   "outputs": [],
   "source": [
    "a, b, c = 1, \"python\", 3.14\n",
    "print(a, b, c)"
   ]
  },
  {
   "cell_type": "code",
   "execution_count": null,
   "metadata": {},
   "outputs": [],
   "source": [
    "# We are using a try-except so that execution of cells won't be halted at this cell.\n",
    "try:\n",
    "    a, b = 1, \"python\", 3.14\n",
    "except ValueError as exc:\n",
    "    print(exc)\n",
    "    print(\"Number of values are more than number of variables which leads to ValueError\")"
   ]
  },
  {
   "cell_type": "code",
   "execution_count": null,
   "metadata": {},
   "outputs": [],
   "source": [
    "# We are using a try-except so that execution of cells won't be halted at this cell.\n",
    "try:\n",
    "    a, b, c = 1, \"python\"\n",
    "except ValueError as exc:\n",
    "    print(exc)\n",
    "    print(\"Number of values are less than number of variables which leads to ValueError\")"
   ]
  },
  {
   "cell_type": "markdown",
   "metadata": {},
   "source": [
    "## Assignment of single value to multiple variables simultaneously"
   ]
  },
  {
   "cell_type": "code",
   "execution_count": null,
   "metadata": {},
   "outputs": [],
   "source": [
    "a = b = c = 13\n",
    "print(a, b, c)"
   ]
  },
  {
   "cell_type": "markdown",
   "metadata": {},
   "source": [
    "## Nested Lists are Available in Python"
   ]
  },
  {
   "cell_type": "code",
   "execution_count": null,
   "metadata": {},
   "outputs": [],
   "source": [
    "sample_list = [1, 2, [3, 4, 5], 6] # As many other languages, in python too indexing starts from 0.\n",
    "print(sample_list[2])\n",
    "print(sample_list[2][1])"
   ]
  }
 ],
 "metadata": {
  "kernelspec": {
   "display_name": "Python 3",
   "language": "python",
   "name": "python3"
  },
  "language_info": {
   "codemirror_mode": {
    "name": "ipython",
    "version": 3
   },
   "file_extension": ".py",
   "mimetype": "text/x-python",
   "name": "python",
   "nbconvert_exporter": "python",
   "pygments_lexer": "ipython3",
   "version": "3.7.3"
  }
 },
 "nbformat": 4,
 "nbformat_minor": 2
}
